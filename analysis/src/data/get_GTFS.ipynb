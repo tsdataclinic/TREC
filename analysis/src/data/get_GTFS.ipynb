{
 "cells": [
  {
   "cell_type": "code",
   "execution_count": 1,
   "id": "9419ecd0-324b-4c58-a6d7-49f21aa19c37",
   "metadata": {},
   "outputs": [],
   "source": [
    "import pandas as pd\n",
    "import geopandas as geopd\n",
    "import json"
   ]
  },
  {
   "cell_type": "code",
   "execution_count": null,
   "id": "d5332dbb-f592-4e0a-b9d9-cb216878dfd3",
   "metadata": {},
   "outputs": [],
   "source": [
    "apikey = \"Is4ZZ9dfNQ6G4cWGTXEXdwn4VOlI8Nop\" \n",
    "endpoint = \"https://transit.land/api/v2/rest/\""
   ]
  },
  {
   "cell_type": "code",
   "execution_count": null,
   "id": "fbb1cd00-e019-46c7-9347-a6b0daa44d2d",
   "metadata": {},
   "outputs": [],
   "source": [
    "def load_geo(path):\n",
    "    return "
   ]
  },
  {
   "cell_type": "code",
   "execution_count": null,
   "id": "755d855b-5833-46c4-a136-fb6821d726fc",
   "metadata": {},
   "outputs": [],
   "source": [
    "def define_bounding_box(region_geo):\n",
    "    "
   ]
  },
  {
   "cell_type": "code",
   "execution_count": null,
   "id": "5b9ae612-58f5-4254-9568-d5d71e6f6da5",
   "metadata": {},
   "outputs": [],
   "source": [
    "def create_search_grid(bounding_box):\n",
    "    "
   ]
  }
 ],
 "metadata": {
  "kernelspec": {
   "display_name": "Python 3 (ipykernel)",
   "language": "python",
   "name": "python3"
  },
  "language_info": {
   "codemirror_mode": {
    "name": "ipython",
    "version": 3
   },
   "file_extension": ".py",
   "mimetype": "text/x-python",
   "name": "python",
   "nbconvert_exporter": "python",
   "pygments_lexer": "ipython3",
   "version": "3.7.10"
  }
 },
 "nbformat": 4,
 "nbformat_minor": 5
}
