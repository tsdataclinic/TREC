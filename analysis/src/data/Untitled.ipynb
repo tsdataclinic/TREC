{
 "cells": [
  {
   "cell_type": "code",
   "execution_count": 1,
   "id": "00b91d58-b14b-4723-ae34-0f5577587611",
   "metadata": {},
   "outputs": [],
   "source": [
    "from urllib.request import urlopen\n",
    "from zipfile import ZipFile\n",
    "from io import BytesIO\n"
   ]
  },
  {
   "cell_type": "code",
   "execution_count": 25,
   "id": "a778557a-a870-4564-81a1-dfb3902f8849",
   "metadata": {},
   "outputs": [],
   "source": [
    "def get_transit_feeds(config, city_key):\n",
    "    \"\"\"\n",
    "    Read feed URLs from config file, download, and unzip these to their respective folders.\n",
    "    \"\"\"\n",
    "    base_path = f\"/home/data/cities/{city_key}/transit_feeds/\"\n",
    "    feeds = config[city_key]['transit_feeds']\n",
    "    feed_names = list(feeds.keys())\n",
    "    feed_urls = list(feeds.values())\n",
    "    \n",
    "    for i in range(0,len(feed_urls)):\n",
    "        with urlopen(feed_urls[i]) as zipresp:\n",
    "            print(\"Downloading from: \" + feed_urls[i] + \" as \" + feed_names[i])\n",
    "            with ZipFile(BytesIO(zipresp.read())) as zfile:\n",
    "                zfile.extractall(base_path + feed_names[i])"
   ]
  },
  {
   "cell_type": "code",
   "execution_count": 28,
   "id": "635c664c-7cf4-476c-8e53-76cf92bfc01c",
   "metadata": {},
   "outputs": [],
   "source": [
    "config = {\n",
    "    \"nyc\": \n",
    "    {\n",
    "        \"city_name\": \"New York City\",\n",
    "        \"msa_code\": \"C3562\",\n",
    "        \"transit_feeds\": {\n",
    "            \"mta_subway\": \"http://web.mta.info/developers/data/nyct/subway/google_transit.zip\",\n",
    "            \"mta_bus_company\": \"http://web.mta.info/developers/data/busco/google_transit.zip\",\n",
    "            \"bus_bronx\": \"http://web.mta.info/developers/data/nyct/bus/google_transit_bronx.zip\",\n",
    "            \"bus_brooklyn\": \"http://web.mta.info/developers/data/nyct/bus/google_transit_brooklyn.zip\",\n",
    "            \"bus_manhattan\": \"http://web.mta.info/developers/data/nyct/bus/google_transit_manhattan.zip\",\n",
    "            \"bus_queens\": \"http://web.mta.info/developers/data/nyct/bus/google_transit_queens.zip\",\n",
    "            \"bus_staten_island\": \"http://web.mta.info/developers/data/nyct/bus/google_transit_staten_island.zip\"\n",
    "        }\n",
    "    }\n",
    "}\n"
   ]
  },
  {
   "cell_type": "code",
   "execution_count": 29,
   "id": "1c7999a9-a4ef-4c82-b06f-156d8d34c942",
   "metadata": {},
   "outputs": [
    {
     "name": "stdout",
     "output_type": "stream",
     "text": [
      "Downloading from: http://web.mta.info/developers/data/nyct/subway/google_transit.zip as mta_subway\n",
      "Downloading from: http://web.mta.info/developers/data/busco/google_transit.zip as mta_bus_company\n",
      "Downloading from: http://web.mta.info/developers/data/nyct/bus/google_transit_bronx.zip as bus_bronx\n",
      "Downloading from: http://web.mta.info/developers/data/nyct/bus/google_transit_brooklyn.zip as bus_brooklyn\n",
      "Downloading from: http://web.mta.info/developers/data/nyct/bus/google_transit_manhattan.zip as bus_manhattan\n",
      "Downloading from: http://web.mta.info/developers/data/nyct/bus/google_transit_queens.zip as bus_queens\n",
      "Downloading from: http://web.mta.info/developers/data/nyct/bus/google_transit_staten_island.zip as bus_staten_island\n"
     ]
    }
   ],
   "source": [
    "get_transit_feeds(config,'nyc')"
   ]
  },
  {
   "cell_type": "code",
   "execution_count": 19,
   "id": "d8ba95b4-a2b3-45f9-87c1-b294dd99d837",
   "metadata": {},
   "outputs": [],
   "source": [
    "feeds = config['nyc']['transit_feeds']\n",
    "feed_names = list(feeds.keys())\n",
    "feed_urls = list(feeds.values())"
   ]
  },
  {
   "cell_type": "code",
   "execution_count": 21,
   "id": "63fa0709-3db7-4b09-9337-f850bd0ea7af",
   "metadata": {},
   "outputs": [
    {
     "data": {
      "text/plain": [
       "['http://web.mta.info/developers/data/nyct/subway/google_transit.zip',\n",
       " 'http://web.mta.info/developers/data/busco/google_transit.zip',\n",
       " 'http://web.mta.info/developers/data/nyct/bus/google_transit_bronx.zip',\n",
       " 'http://web.mta.info/developers/data/nyct/bus/google_transit_brooklyn.zip',\n",
       " 'http://web.mta.info/developers/data/nyct/bus/google_transit_manhattan.zip',\n",
       " 'http://web.mta.info/developers/data/nyct/bus/google_transit_queens.zip',\n",
       " 'http://web.mta.info/developers/data/nyct/bus/google_transit_staten_island.zip']"
      ]
     },
     "execution_count": 21,
     "metadata": {},
     "output_type": "execute_result"
    }
   ],
   "source": [
    "feed_urls"
   ]
  },
  {
   "cell_type": "code",
   "execution_count": 30,
   "id": "d1326d8b-34d0-432e-a332-01e9240f443e",
   "metadata": {},
   "outputs": [],
   "source": [
    "import json"
   ]
  },
  {
   "cell_type": "code",
   "execution_count": 33,
   "id": "eeb1b26c-d17a-418c-89f9-976b907b1e20",
   "metadata": {},
   "outputs": [],
   "source": [
    "with open('config.json') as f:\n",
    "    a = json.load(f)"
   ]
  },
  {
   "cell_type": "code",
   "execution_count": 34,
   "id": "ff135107-c46a-4d91-a081-2007f590e143",
   "metadata": {},
   "outputs": [
    {
     "data": {
      "text/plain": [
       "{'nyc': {'city_name': 'New York City',\n",
       "  'msa_code': 'C3562',\n",
       "  'transit_feeds': {'mta_subway': 'http://web.mta.info/developers/data/nyct/subway/google_transit.zip',\n",
       "   'mta_bus_company': 'http://web.mta.info/developers/data/busco/google_transit.zip',\n",
       "   'bus_bronx': 'http://web.mta.info/developers/data/nyct/bus/google_transit_bronx.zip',\n",
       "   'bus_brooklyn': 'http://web.mta.info/developers/data/nyct/bus/google_transit_brooklyn.zip',\n",
       "   'bus_manhattan': 'http://web.mta.info/developers/data/nyct/bus/google_transit_manhattan.zip',\n",
       "   'bus_queens': 'http://web.mta.info/developers/data/nyct/bus/google_transit_queens.zip',\n",
       "   'bus_staten_island': 'http://web.mta.info/developers/data/nyct/bus/google_transit_staten_island.zip'}}}"
      ]
     },
     "execution_count": 34,
     "metadata": {},
     "output_type": "execute_result"
    }
   ],
   "source": [
    "a"
   ]
  },
  {
   "cell_type": "code",
   "execution_count": 1,
   "id": "322802ab-50a4-4bfe-a5e7-6a971694f937",
   "metadata": {},
   "outputs": [],
   "source": [
    "library(\"jsonlite\")\n",
    "library(\"optparse\")"
   ]
  },
  {
   "cell_type": "code",
   "execution_count": 25,
   "id": "296d97b9-ff17-4b13-9974-2efa85cc6074",
   "metadata": {},
   "outputs": [],
   "source": [
    "config <- fromJSON(txt='config.json')"
   ]
  },
  {
   "cell_type": "code",
   "execution_count": 35,
   "id": "d041588a-ba4d-421c-976d-5a515fdc0e43",
   "metadata": {},
   "outputs": [],
   "source": [
    "city <- 'nyc'"
   ]
  },
  {
   "cell_type": "code",
   "execution_count": 36,
   "id": "c8ae8482-506c-4610-addd-d2c1a3c75887",
   "metadata": {},
   "outputs": [],
   "source": [
    "base_path = paste0(\"/home/data/cities/\",city,\"/census/\")"
   ]
  },
  {
   "cell_type": "code",
   "execution_count": 37,
   "id": "75dafbbf-1efd-4e3e-91cf-3acfbbac916e",
   "metadata": {},
   "outputs": [
    {
     "data": {
      "text/html": [
       "'/home/data/cities/nyc/census/'"
      ],
      "text/latex": [
       "'/home/data/cities/nyc/census/'"
      ],
      "text/markdown": [
       "'/home/data/cities/nyc/census/'"
      ],
      "text/plain": [
       "[1] \"/home/data/cities/nyc/census/\""
      ]
     },
     "metadata": {},
     "output_type": "display_data"
    }
   ],
   "source": [
    "base_path"
   ]
  },
  {
   "cell_type": "code",
   "execution_count": 12,
   "id": "3c4f3f85-f7af-490d-81d8-5738338de1d7",
   "metadata": {},
   "outputs": [
    {
     "ename": "ERROR",
     "evalue": "Error in eval(expr, envir, enclos): object 'city_code' not found\n",
     "output_type": "error",
     "traceback": [
      "Error in eval(expr, envir, enclos): object 'city_code' not found\nTraceback:\n"
     ]
    }
   ],
   "source": [
    "config[city_code]"
   ]
  },
  {
   "cell_type": "code",
   "execution_count": 13,
   "id": "3b4ea25e-8eaa-4dc0-9871-ece89e051590",
   "metadata": {},
   "outputs": [
    {
     "name": "stderr",
     "output_type": "stream",
     "text": [
      "Installing package into ‘/home/kaushik/R/x86_64-koji-linux-gnu-library/4.0’\n",
      "(as ‘lib’ is unspecified)\n",
      "\n"
     ]
    }
   ],
   "source": [
    "install.packages(\"tidyjson\")"
   ]
  },
  {
   "cell_type": "code",
   "execution_count": 14,
   "id": "ed8e65ae-e9ee-4181-94ee-96fb34a45186",
   "metadata": {},
   "outputs": [
    {
     "name": "stderr",
     "output_type": "stream",
     "text": [
      "\n",
      "Attaching package: ‘tidyjson’\n",
      "\n",
      "\n",
      "The following object is masked from ‘package:jsonlite’:\n",
      "\n",
      "    read_json\n",
      "\n",
      "\n",
      "The following object is masked from ‘package:stats’:\n",
      "\n",
      "    filter\n",
      "\n",
      "\n"
     ]
    }
   ],
   "source": [
    "library(\"tidyjson\")"
   ]
  },
  {
   "cell_type": "code",
   "execution_count": 27,
   "id": "31fedda4-2b74-4691-8250-5958fafe7c1f",
   "metadata": {},
   "outputs": [],
   "source": []
  },
  {
   "cell_type": "code",
   "execution_count": 34,
   "id": "b083b82c-3b0c-4b15-88c7-e64a845a1f8c",
   "metadata": {},
   "outputs": [
    {
     "data": {
      "text/html": [
       "'C3562'"
      ],
      "text/latex": [
       "'C3562'"
      ],
      "text/markdown": [
       "'C3562'"
      ],
      "text/plain": [
       "[1] \"C3562\""
      ]
     },
     "metadata": {},
     "output_type": "display_data"
    }
   ],
   "source": []
  },
  {
   "cell_type": "code",
   "execution_count": null,
   "id": "93d45803-d768-4b65-9eb0-8c1924bb94d0",
   "metadata": {},
   "outputs": [],
   "source": []
  }
 ],
 "metadata": {
  "kernelspec": {
   "display_name": "R",
   "language": "R",
   "name": "ir"
  },
  "language_info": {
   "codemirror_mode": "r",
   "file_extension": ".r",
   "mimetype": "text/x-r-source",
   "name": "R",
   "pygments_lexer": "r",
   "version": "4.0.2"
  }
 },
 "nbformat": 4,
 "nbformat_minor": 5
}
