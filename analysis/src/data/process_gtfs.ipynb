{
 "cells": [
  {
   "cell_type": "code",
   "execution_count": 137,
   "id": "b695c96a-44a7-44c1-a452-ce566669846a",
   "metadata": {},
   "outputs": [],
   "source": [
    "import os\n",
    "import pandas as pd\n",
    "import geopandas as geopd\n",
    "from shapely.geometry import Point, LineString"
   ]
  },
  {
   "cell_type": "code",
   "execution_count": 138,
   "id": "f807e5a6-553a-479b-b6ef-98c44f4a911c",
   "metadata": {},
   "outputs": [],
   "source": [
    "def make_stops(folder_path, route_type):\n",
    "    \n",
    "    # Load relevant gtfs elements\n",
    "    routes = pd.read_csv(folder_path + \"/routes.txt\")\n",
    "    stops = pd.read_csv(folder_path + \"/stops.txt\")\n",
    "    trips = pd.read_csv(folder_path + \"/trips.txt\")\n",
    "    stop_times = pd.read_csv(folder_path + \"/stop_times.txt\")\n",
    "    \n",
    "    # Get most common services for each line\n",
    "    mode_trips = trips[[\"route_id\", \"service_id\"]].groupby([\"route_id\"]).agg(pd.Series.mode).reset_index()\n",
    "    trips_to_include = mode_trips.merge(trips, on = \"route_id\").query(\"service_id_y.isin(service_id_x)\")[[\"route_id\", \"trip_id\"]]\n",
    "    \n",
    "    # Final df\n",
    "    trips_with_stops = trips_to_include.merge(stop_times)\n",
    "    stops_with_trips = trips_with_stops.merge(stops)[[\"route_id\", \"stop_id\", \"stop_name\", \"stop_lat\", \"stop_lon\"]].drop_duplicates().reset_index(drop = True)\n",
    "    stops_with_trips[\"route_type\"] = route_type\n",
    "    \n",
    "    # Add geometry\n",
    "    stops_with_trips[\"geometry\"] = geopd.points_from_xy(stops_with_trips.stop_lon, stops_with_trips.stop_lat, crs=\"EPSG:4326\")\n",
    "    stops_with_trips = geopd.GeoDataFrame(stops_with_trips, geometry = \"geometry\")\n",
    "    \n",
    "    return stops_with_trips"
   ]
  },
  {
   "cell_type": "code",
   "execution_count": 139,
   "id": "8e63fa53-cc31-420a-bbe5-b738289ff18f",
   "metadata": {},
   "outputs": [],
   "source": [
    "def make_lines(folder_path, route_type, extra_routes_to_keep):\n",
    "    trips = pd.read_csv(folder_path + \"/trips.txt\")\n",
    "    shapes = pd.read_csv(folder_path + \"/shapes.txt\")\n",
    "    \n",
    "    # Modal trip paths\n",
    "    trips[\"route_type\"] = route_type\n",
    "    trips_key = trips[[\"shape_id\", \"route_id\", \"direction_id\", \"route_type\"]].groupby([\"direction_id\",\"route_id\", \"route_type\"]).agg(lambda x: pd.Series.mode(x)[0]).reset_index()\n",
    "    \n",
    "    # Extra routes\n",
    "    extras = trips.query(\"shape_id.isin(@extra_routes_to_keep)\")[[\"shape_id\", \"route_id\", \"direction_id\", \"route_type\"]].drop_duplicates().reset_index()\n",
    "    trips_key = pd.concat([trips_key, extras])\n",
    "    \n",
    "    # shapes_routes = shapes.merge(trips)\n",
    "    shapes[\"geometry\"] = geopd.points_from_xy(shapes.shape_pt_lon, shapes.shape_pt_lat, crs=\"EPSG:4326\")\n",
    "    shapes_points = geopd.GeoDataFrame(shapes, geometry = \"geometry\")\n",
    "\n",
    "    # Points to lines\n",
    "    shapes_lines = shapes_points.groupby(['shape_id'])['geometry'].apply(lambda x: LineString(x.tolist())).reset_index()\n",
    "    shapes_lines = trips_key.merge(shapes_lines, how = \"left\")\n",
    "    shapes_lines = geopd.GeoDataFrame(shapes_lines, geometry = \"geometry\",  crs=\"EPSG:4326\")\n",
    "\n",
    "    return shapes_lines"
   ]
  },
  {
   "cell_type": "code",
   "execution_count": 140,
   "id": "6b477976-4fc7-42de-9833-7d37260700fa",
   "metadata": {},
   "outputs": [],
   "source": [
    "base_path = \"/home/data/transit_feed_data/mta_feeds/\"\n",
    "feeds = [feed for feed in os.listdir(base_path) if os.path.isdir(base_path + feed)]\n",
    "\n",
    "stops = geopd.GeoDataFrame()\n",
    "routes = geopd.GeoDataFrame()\n",
    "\n",
    "for feed in feeds:\n",
    "    route_type = \"bus\"\n",
    "    if feed == \"mta_subway\": route_type = \"subway\"\n",
    "        \n",
    "    feed_stops = make_stops(base_path + feed, route_type)\n",
    "    feed_lines = make_lines(base_path + feed, route_type, [\"A..S58R\"])\n",
    "        \n",
    "    stops = pd.concat([stops, feed_stops])\n",
    "    routes = pd.concat([routes, feed_lines])"
   ]
  },
  {
   "cell_type": "code",
   "execution_count": 141,
   "id": "0f4d9316-b165-4908-824b-93603eda90f5",
   "metadata": {},
   "outputs": [],
   "source": [
    "home_path = \"/home/data/transit_feed_data/mta_processed/\"\n",
    "stops.to_file(home_path + \"NYC_GTFS_Stops.geojson\", driver='GeoJSON')\n",
    "routes.to_file(home_path + \"NYC_GTFS_Routes.geojson\", driver='GeoJSON')"
   ]
  },
  {
   "cell_type": "code",
   "execution_count": 133,
   "id": "6023387d-8b04-4c56-a265-992050f6b538",
   "metadata": {},
   "outputs": [],
   "source": [
    "#base_path = \"/home/data/transit_feed_data/mta_feeds/\"\n",
    "#feeds = [feed for feed in os.listdir(base_path) if os.path.isdir(base_path + feed)]\n",
    "\n",
    "#folder_path = base_path + feeds[2]\n",
    "\n",
    "#stops = pd.read_csv(folder_path + \"/stops.txt\")\n",
    "#stop_times = pd.read_csv(folder_path + \"/stop_times.txt\")\n",
    "#trips = pd.read_csv(folder_path + \"/trips.txt\")\n",
    "#shapes = pd.read_csv(folder_path + \"/shapes.txt\")"
   ]
  }
 ],
 "metadata": {
  "kernelspec": {
   "display_name": "Python 3 (ipykernel)",
   "language": "python",
   "name": "python3"
  },
  "language_info": {
   "codemirror_mode": {
    "name": "ipython",
    "version": 3
   },
   "file_extension": ".py",
   "mimetype": "text/x-python",
   "name": "python",
   "nbconvert_exporter": "python",
   "pygments_lexer": "ipython3",
   "version": "3.7.10"
  }
 },
 "nbformat": 4,
 "nbformat_minor": 5
}
