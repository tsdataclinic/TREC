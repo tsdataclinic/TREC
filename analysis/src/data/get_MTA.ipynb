{
 "cells": [
  {
   "cell_type": "code",
   "execution_count": 113,
   "id": "c9f2b2eb-7145-46cd-a993-121eed8bb79c",
   "metadata": {},
   "outputs": [],
   "source": [
    "import urllib.request"
   ]
  },
  {
   "cell_type": "code",
   "execution_count": 116,
   "id": "0152d307-4216-4565-8cbe-e070155bdc66",
   "metadata": {},
   "outputs": [],
   "source": [
    "mta_urls = [\"http://web.mta.info/developers/data/nyct/subway/google_transit.zip\",\n",
    "           \"http://web.mta.info/developers/data/nyct/bus/google_transit_bronx.zip\",\n",
    "           \"http://web.mta.info/developers/data/nyct/bus/google_transit_brooklyn.zip\",\n",
    "           \"http://web.mta.info/developers/data/nyct/bus/google_transit_queens.zip\",\n",
    "           \"http://web.mta.info/developers/data/nyct/bus/google_transit_staten_island.zip\",\n",
    "           \"http://web.mta.info/developers/data/nyct/bus/google_transit_manhattan.zip\"]\n",
    "\n",
    "mta_names = [\"mta_subway.zip\"] + [x[45:len(x)] for x in mta_urls[1:6]]\n",
    "base_path = \"/home/data/transit_feed_data/mta_feeds/\""
   ]
  },
  {
   "cell_type": "code",
   "execution_count": 118,
   "id": "30ac393a-4aca-423e-8262-685a612c7457",
   "metadata": {},
   "outputs": [
    {
     "name": "stdout",
     "output_type": "stream",
     "text": [
      "Downloading from: http://web.mta.info/developers/data/nyct/subway/google_transit.zip as mta_subway.zip\n",
      "Downloading from: http://web.mta.info/developers/data/nyct/bus/google_transit_bronx.zip as google_transit_bronx.zip\n",
      "Downloading from: http://web.mta.info/developers/data/nyct/bus/google_transit_brooklyn.zip as google_transit_brooklyn.zip\n",
      "Downloading from: http://web.mta.info/developers/data/nyct/bus/google_transit_queens.zip as google_transit_queens.zip\n",
      "Downloading from: http://web.mta.info/developers/data/nyct/bus/google_transit_staten_island.zip as google_transit_staten_island.zip\n",
      "Downloading from: http://web.mta.info/developers/data/nyct/bus/google_transit_manhattan.zip as google_transit_manhattan.zip\n"
     ]
    }
   ],
   "source": [
    "for i in range(0,6):\n",
    "    urllib.request.urlretrieve(mta_urls[i], base_path + mta_names[i])\n",
    "    print(\"Downloading from: \" + mta_urls[i] + \" as \" + mta_names[i])"
   ]
  }
 ],
 "metadata": {
  "kernelspec": {
   "display_name": "Python 3 (ipykernel)",
   "language": "python",
   "name": "python3"
  },
  "language_info": {
   "codemirror_mode": {
    "name": "ipython",
    "version": 3
   },
   "file_extension": ".py",
   "mimetype": "text/x-python",
   "name": "python",
   "nbconvert_exporter": "python",
   "pygments_lexer": "ipython3",
   "version": "3.7.10"
  }
 },
 "nbformat": 4,
 "nbformat_minor": 5
}
