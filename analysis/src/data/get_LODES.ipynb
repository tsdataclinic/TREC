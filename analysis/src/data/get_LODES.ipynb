{
 "cells": [
  {
   "cell_type": "code",
   "execution_count": 10,
   "id": "d0c59997-87a0-4d17-992d-17fe50fde4d3",
   "metadata": {},
   "outputs": [],
   "source": [
    "import urllib.request\n",
    "import gzip\n",
    "import shutil"
   ]
  },
  {
   "cell_type": "code",
   "execution_count": 12,
   "id": "c8b59ee4-9b5a-4002-805d-82fc779ed998",
   "metadata": {},
   "outputs": [],
   "source": [
    "path = \"/home/data/census/nyc/LODES/\"\n",
    "file_name = \"ny_od_main_JT01_2019.csv.gz\""
   ]
  },
  {
   "cell_type": "code",
   "execution_count": 8,
   "id": "8ea672b7-a623-4de0-97c8-19835e098e3c",
   "metadata": {},
   "outputs": [
    {
     "data": {
      "text/plain": [
       "('/home/data/census/nyc/LODES/ny_od_main_JT01_2019.csv.gz',\n",
       " <http.client.HTTPMessage at 0x7f8cc0105ad0>)"
      ]
     },
     "execution_count": 8,
     "metadata": {},
     "output_type": "execute_result"
    }
   ],
   "source": [
    "urllib.request.urlretrieve(\"https://lehd.ces.census.gov/data/lodes/LODES7/ny/od/ny_od_main_JT01_2019.csv.gz\", path + \"\")"
   ]
  },
  {
   "cell_type": "code",
   "execution_count": 14,
   "id": "58711265-92b2-44af-b21d-9c78daad0f01",
   "metadata": {},
   "outputs": [],
   "source": [
    "with gzip.open(path + file_name, 'r') as f_in, open(path + 'ny_od_main_JT01_2019.csv', 'wb') as f_out:\n",
    "  shutil.copyfileobj(f_in, f_out)"
   ]
  }
 ],
 "metadata": {
  "kernelspec": {
   "display_name": "Python 3 (ipykernel)",
   "language": "python",
   "name": "python3"
  },
  "language_info": {
   "codemirror_mode": {
    "name": "ipython",
    "version": 3
   },
   "file_extension": ".py",
   "mimetype": "text/x-python",
   "name": "python",
   "nbconvert_exporter": "python",
   "pygments_lexer": "ipython3",
   "version": "3.7.10"
  }
 },
 "nbformat": 4,
 "nbformat_minor": 5
}
