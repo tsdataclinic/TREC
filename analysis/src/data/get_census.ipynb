{
 "cells": [
  {
   "cell_type": "code",
   "execution_count": 2,
   "id": "56e589c4-7ebd-4233-b608-b0b2a0a2e33a",
   "metadata": {},
   "outputs": [],
   "source": [
    "library(tidyverse)\n",
    "library(tidycensus)\n",
    "library(sf)"
   ]
  },
  {
   "cell_type": "code",
   "execution_count": 12,
   "id": "b398577d-69f3-4984-90e0-1ddf7a27dae3",
   "metadata": {},
   "outputs": [],
   "source": [
    "msa_code = \"C3562\" # NYC Metro\n",
    "path = \"/home/data/census/nyc/\"\n",
    "# census_api_key({key}, install = TRUE)"
   ]
  },
  {
   "cell_type": "code",
   "execution_count": 10,
   "id": "1168c763-416f-41be-9e90-0d91ff83dcf0",
   "metadata": {},
   "outputs": [
    {
     "name": "stderr",
     "output_type": "stream",
     "text": [
      "\u001b[1mRows: \u001b[22m\u001b[34m3251\u001b[39m \u001b[1mColumns: \u001b[22m\u001b[34m7\u001b[39m\n",
      "\u001b[36m──\u001b[39m \u001b[1mColumn specification\u001b[22m \u001b[36m────────────────────────────────────────────────────────────────────────────────────────────────────────────────────────────────────────────────────────\u001b[39m\n",
      "\u001b[1mDelimiter:\u001b[22m \",\"\n",
      "\u001b[31mchr\u001b[39m (7): County Code, County Title, MSA Code, MSA Title, MSA Type, CSA Code,...\n",
      "\n",
      "\u001b[36mℹ\u001b[39m Use `spec()` to retrieve the full column specification for this data.\n",
      "\u001b[36mℹ\u001b[39m Specify the column types or set `show_col_types = FALSE` to quiet this message.\n"
     ]
    }
   ],
   "source": [
    "all_msa <- read_csv(\"https://www.bls.gov/cew/classifications/areas/qcew-county-msa-csa-crosswalk-csv.csv\") # National MSA to county crosswalk\n",
    "nyc_msa <- all_msa %>% filter(`MSA Code` == msa_code)\n",
    "nyc_msa_counties <- nyc_msa %>% pull(`County Code`)"
   ]
  },
  {
   "cell_type": "code",
   "execution_count": 13,
   "id": "c7b8b5db-d975-4512-9918-69659f65d026",
   "metadata": {},
   "outputs": [
    {
     "name": "stderr",
     "output_type": "stream",
     "text": [
      "Getting data from the 2016-2020 5-year ACS\n",
      "\n",
      "Downloading feature geometry from the Census website.  To cache shapefiles for use in future sessions, set `options(tigris_use_cache = TRUE)`.\n",
      "\n",
      "Fetching tract data by state and combining the result.\n",
      "\n"
     ]
    },
    {
     "name": "stdout",
     "output_type": "stream",
     "text": [
      "Writing layer `nyc_tracts' to data source \n",
      "  `/home/data/census/nyc/geo/nyc_tracts.geojson' using driver `GeoJSON'\n",
      "Writing 5127 features with 3 fields and geometry type Multi Polygon.\n"
     ]
    }
   ],
   "source": [
    "tract_boundaries <- get_acs(geography = \"tract\",\n",
    "                            state = c(\"NY\", \"CT\", \"PA\", \"NJ\"),\n",
    "                            year = 2020, \n",
    "                            cb = TRUE, \n",
    "                            geometry = T, \n",
    "                            variables = \"B19013_001\") %>% \n",
    "  mutate(county = substr(GEOID, 1,5)) %>%\n",
    "  filter(county %in% nyc_msa_counties) %>%\n",
    "  select(-variable, -estimate, -moe)\n",
    "\n",
    "tract_boundaries <- st_transform(tract_boundaries, \"WGS84\")\n",
    "\n",
    "\n",
    "st_write(tract_boundaries, paste0(path, \"geo/nyc_tracts.geojson\"))"
   ]
  },
  {
   "cell_type": "code",
   "execution_count": 14,
   "id": "a5afba6a-ed45-4560-aa8f-6b3c239cadde",
   "metadata": {},
   "outputs": [
    {
     "name": "stderr",
     "output_type": "stream",
     "text": [
      "Getting data from the 2016-2020 5-year ACS\n",
      "\n",
      "Downloading feature geometry from the Census website.  To cache shapefiles for use in future sessions, set `options(tigris_use_cache = TRUE)`.\n",
      "\n",
      "Fetching block group data by state and combining the result.\n",
      "\n"
     ]
    },
    {
     "name": "stdout",
     "output_type": "stream",
     "text": [
      "  |======================================================================| 100%\n",
      "  |======================================================================| 100%\n",
      "  |======================================================================| 100%\n",
      "  |======================================================================| 100%\n",
      "Writing layer `nyc_block_groups' to data source \n",
      "  `/home/data/census/nyc/geo/nyc_block_groups.geojson' using driver `GeoJSON'\n",
      "Writing 15529 features with 3 fields and geometry type Multi Polygon.\n"
     ]
    }
   ],
   "source": [
    "block_group_boundaries <- get_acs(geography = \"block group\", \n",
    "                                  state = c(\"NY\", \"CT\", \"PA\", \"NJ\"), \n",
    "                                  year = 2020, \n",
    "                                  cb = TRUE, \n",
    "                                  geometry = T,\n",
    "                                  variables = \"B19013_001\") %>% \n",
    "  mutate(county = substr(GEOID, 1,5)) %>%\n",
    "  filter(county %in% nyc_msa_counties) %>%\n",
    "  select(-variable, -estimate, -moe)\n",
    "\n",
    "block_group_boundaries <- st_transform(block_group_boundaries, \"WGS84\")\n",
    "\n",
    "st_write(block_group_boundaries, paste0(path, \"geo/nyc_block_groups.geojson\"))"
   ]
  },
  {
   "cell_type": "code",
   "execution_count": 19,
   "id": "08afe918-88c9-422b-bcb2-b5cefd9b89bf",
   "metadata": {},
   "outputs": [],
   "source": [
    "# Income/Employment Variables\n",
    "\n",
    "income_employment_vars <- c(\n",
    "  \"total_pop\" = \"B01001_001\",\n",
    "  \"pop_in_poverty\" = \"B17001_002\"\n",
    "  # Add more\n",
    ")\n",
    "\n",
    "# Age/Disability Variables\n",
    "\n",
    "age_disability_vars <- c(\n",
    "  \"male_under_18\" = \"B05003_003\",\n",
    "  \"female_under_18\" = \"B05003_014\",\n",
    "  \"total_over_65\" = \"B16007_014\"\n",
    "  # Add more\n",
    ")\n",
    "\n",
    "# Minority/Language Variables\n",
    "\n",
    "race_language_vars <- c(\n",
    "  \"white_nh_pop\" = \"B03002_003\",\n",
    "  \"black_nh_pop\" = \"B03002_004\",\n",
    "  \"asian_nh_pop\" = \"B03002_006\",\n",
    "  \"hispanic_pop\" = \"B03002_012\"\n",
    "  # Add more\n",
    ")\n",
    "\n",
    "# Housing/Transportation Variables\n",
    "\n",
    "housing_transport_vars <- c(\n",
    "  \"total_households\" = \"B08201_001\",\n",
    "  \"households_no_car\" = \"B08201_002\"\n",
    "  # Add more\n",
    ")\n"
   ]
  },
  {
   "cell_type": "code",
   "execution_count": 20,
   "id": "ced1ee13-290a-45fd-908c-2c7956729bb8",
   "metadata": {},
   "outputs": [
    {
     "name": "stderr",
     "output_type": "stream",
     "text": [
      "Getting data from the 2016-2020 5-year ACS\n",
      "\n",
      "Fetching tract data by state and combining the result.\n",
      "\n"
     ]
    }
   ],
   "source": [
    "acs_vars <- c(income_employment_vars, age_disability_vars, race_language_vars, housing_transport_vars)\n",
    "\n",
    "acs_long <- get_acs(geography = \"tract\",\n",
    "                            state = c(\"NY\", \"CT\", \"PA\", \"NJ\"),\n",
    "                            year = 2020, \n",
    "                            geometry = F, \n",
    "                            variables = acs_vars) %>% \n",
    "  mutate(county = substr(GEOID, 1,5)) %>%\n",
    "  filter(county %in% nyc_msa_counties) \n",
    "\n",
    "acs_wide <- acs_long %>%\n",
    "  pivot_wider(id_cols = c(1,2), names_from = \"variable\", values_from = \"estimate\")\n"
   ]
  },
  {
   "cell_type": "code",
   "execution_count": 21,
   "id": "50978ba0-ec74-4632-86d7-fa3cfe7eb822",
   "metadata": {},
   "outputs": [],
   "source": [
    "# Compute new variables\n",
    "\n",
    "acs_wide <- acs_wide %>%\n",
    "  mutate(total_under_18 = female_under_18 + male_under_18,\n",
    "         )\n",
    "\n",
    "write_csv(acs_wide, paste0(path, \"acs/acs_wide.cvs\"))\n"
   ]
  },
  {
   "cell_type": "code",
   "execution_count": null,
   "id": "a927bed7-f360-4a00-ae87-e501048a6ce3",
   "metadata": {},
   "outputs": [],
   "source": []
  }
 ],
 "metadata": {
  "kernelspec": {
   "display_name": "R",
   "language": "R",
   "name": "ir"
  },
  "language_info": {
   "codemirror_mode": "r",
   "file_extension": ".r",
   "mimetype": "text/x-r-source",
   "name": "R",
   "pygments_lexer": "r",
   "version": "4.0.2"
  }
 },
 "nbformat": 4,
 "nbformat_minor": 5
}
