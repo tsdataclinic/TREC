{
 "cells": [
  {
   "cell_type": "code",
   "execution_count": 46,
   "id": "847543d1-cacb-4d08-bd51-f0cca50ede6f",
   "metadata": {},
   "outputs": [],
   "source": [
    "import os\n",
    "import pandas as pd\n",
    "import geopandas as gpd\n",
    "os.chdir(os.path.expanduser('~/TOP-Sprint/analysis'))\n",
    "from src.features.count_jobs import count_jobs\n",
    "from src.features.count_jobs import count_all_jobs\n",
    "from src.features.jobs_vulnerability import get_worker_svi\n",
    "from src.features.build_stop_features import get_transit_walksheds\n",
    "from src.features.areal_interpolation import areal_interpolation\n",
    "from src.features.count_jobs import count_jobs_to_subtract\n",
    "import src.features.areal_interpolation as areal \n",
    "from src.features.build_stop_features import get_stops_features\n",
    "from src.features.build_stop_features import get_svi\n",
    "from src.data.process_stops import make_stops"
   ]
  },
  {
   "cell_type": "code",
   "execution_count": null,
   "id": "29373bec-e374-4ebd-b5fb-854d4106b94f",
   "metadata": {},
   "outputs": [],
   "source": [
    "BASE_WALKSHED_PATH = '/home/data/osm/'\n",
    "CITY_DIRS = ['nyc','hampton_roads']\n",
    "\n",
    "NYC_TRANSIT_WALKSHED = '/home/data/osm/nyc/walksheds/transit_walkshed_fixed.geojson'\n",
    "HR_TRANSIT_WALKSHED = '/home/data/osm/hampton_roads/walksheds/transit_walkshed_fixed.geojson'\n",
    "\n",
    "NYC_WALK_GRAPH = '/home/data/osm/nyc/NYC_walk_graph.gpickle'\n",
    "HR_WALK_GRAPH = '/home/data/osm/hampton_roads/HR_walk_graph.gpickle'\n",
    "\n",
    "NYC_LODES = '/home/data/census/nyc/LODES/ny_od_main_JT01_2019.csv'\n",
    "HR_LODES = '/home/data/census/hampton_roads/LODES/va_od_main_JT01_2019.csv'\n",
    "\n",
    "NYC_BLOCKS = '/home/data/census/nyc/geo/block_groups.geojson'\n",
    "HR_BLOCKS = '/home/data/census/hampton_roads/geo/block_groups.geojson'\n",
    "\n",
    "NYC_TRACTS = '/home/data/census/nyc/geo/tracts.geojson'\n",
    "HR_TRACTS = '/home/data/census/hampton_roads/geo/tracts.geojson'\n",
    "\n",
    "SVI_PATH = '/home/data/social_vulnerability_index/SVI2020_US.csv'"
   ]
  },
  {
   "cell_type": "code",
   "execution_count": null,
   "id": "a9bfb39f-face-493b-94ee-537801dc3516",
   "metadata": {},
   "outputs": [],
   "source": [
    "nyc_stops = ps.process_feeds([\"/home/data/transit_feed_data/mta_feeds/\"], \"nyc\")"
   ]
  },
  {
   "cell_type": "code",
   "execution_count": null,
   "id": "5dc3d59c-2086-4985-8783-adbc063a9103",
   "metadata": {},
   "outputs": [],
   "source": [
    "nyc_stops.drop(\"routes_serviced\", 1).drop_duplicates()"
   ]
  },
  {
   "cell_type": "code",
   "execution_count": null,
   "id": "381afc7d-0a29-4cca-93ca-5177318f86c9",
   "metadata": {},
   "outputs": [],
   "source": [
    "stops_raw = geopd.read_file(\"/home/data/results/GTFS_stops_processed.geojson\")"
   ]
  },
  {
   "cell_type": "code",
   "execution_count": null,
   "id": "45348c7b-5164-479e-9c76-378290ffeda6",
   "metadata": {},
   "outputs": [],
   "source": [
    "stops_raw"
   ]
  },
  {
   "cell_type": "code",
   "execution_count": null,
   "id": "0323baa9-5f0e-4863-ac93-b181b10eda49",
   "metadata": {},
   "outputs": [],
   "source": [
    "nyc_LODES"
   ]
  },
  {
   "cell_type": "code",
   "execution_count": 16,
   "id": "2417fa91-d603-4158-951f-ba9814d0bb85",
   "metadata": {},
   "outputs": [
    {
     "name": "stdout",
     "output_type": "stream",
     "text": [
      "Getting NYC SVI\n",
      "prep SVI\n",
      "prep LODES\n",
      "prep census\n",
      "get interpolated jobs\n",
      "merge SVI\n",
      "aggregate SVI\n",
      "Getting Hampton Roads SVI\n",
      "prep SVI\n",
      "prep LODES\n",
      "prep census\n",
      "get interpolated jobs\n",
      "merge SVI\n",
      "aggregate SVI\n"
     ]
    }
   ],
   "source": [
    "svi = get_svi()"
   ]
  },
  {
   "cell_type": "code",
   "execution_count": 35,
   "id": "ff469238-70dd-4d05-ac3f-270f8772463b",
   "metadata": {},
   "outputs": [
    {
     "data": {
      "text/html": [
       "<div>\n",
       "<style scoped>\n",
       "    .dataframe tbody tr th:only-of-type {\n",
       "        vertical-align: middle;\n",
       "    }\n",
       "\n",
       "    .dataframe tbody tr th {\n",
       "        vertical-align: top;\n",
       "    }\n",
       "\n",
       "    .dataframe thead th {\n",
       "        text-align: right;\n",
       "    }\n",
       "</style>\n",
       "<table border=\"1\" class=\"dataframe\">\n",
       "  <thead>\n",
       "    <tr style=\"text-align: right;\">\n",
       "      <th></th>\n",
       "      <th>stop_id</th>\n",
       "      <th>SVI_total</th>\n",
       "      <th>SVI_SES</th>\n",
       "      <th>SVI_household</th>\n",
       "      <th>SVI_race</th>\n",
       "      <th>SVI_housing_transport</th>\n",
       "      <th>worker_vulnerability_cat</th>\n",
       "    </tr>\n",
       "  </thead>\n",
       "  <tbody>\n",
       "    <tr>\n",
       "      <th>0</th>\n",
       "      <td>404028</td>\n",
       "      <td>9.868632</td>\n",
       "      <td>3.188302</td>\n",
       "      <td>2.828710</td>\n",
       "      <td>0.793351</td>\n",
       "      <td>3.057867</td>\n",
       "      <td>2</td>\n",
       "    </tr>\n",
       "    <tr>\n",
       "      <th>1</th>\n",
       "      <td>404270</td>\n",
       "      <td>9.880519</td>\n",
       "      <td>3.193774</td>\n",
       "      <td>2.833208</td>\n",
       "      <td>0.794443</td>\n",
       "      <td>3.058788</td>\n",
       "      <td>2</td>\n",
       "    </tr>\n",
       "    <tr>\n",
       "      <th>2</th>\n",
       "      <td>403485</td>\n",
       "      <td>9.879350</td>\n",
       "      <td>3.193190</td>\n",
       "      <td>2.832947</td>\n",
       "      <td>0.794352</td>\n",
       "      <td>3.058555</td>\n",
       "      <td>2</td>\n",
       "    </tr>\n",
       "    <tr>\n",
       "      <th>3</th>\n",
       "      <td>405435</td>\n",
       "      <td>9.912111</td>\n",
       "      <td>3.225876</td>\n",
       "      <td>2.826416</td>\n",
       "      <td>0.798160</td>\n",
       "      <td>3.060642</td>\n",
       "      <td>2</td>\n",
       "    </tr>\n",
       "    <tr>\n",
       "      <th>4</th>\n",
       "      <td>405436</td>\n",
       "      <td>9.945778</td>\n",
       "      <td>3.240409</td>\n",
       "      <td>2.833493</td>\n",
       "      <td>0.800562</td>\n",
       "      <td>3.070323</td>\n",
       "      <td>2</td>\n",
       "    </tr>\n",
       "    <tr>\n",
       "      <th>...</th>\n",
       "      <td>...</td>\n",
       "      <td>...</td>\n",
       "      <td>...</td>\n",
       "      <td>...</td>\n",
       "      <td>...</td>\n",
       "      <td>...</td>\n",
       "      <td>...</td>\n",
       "    </tr>\n",
       "    <tr>\n",
       "      <th>2940</th>\n",
       "      <td>5715</td>\n",
       "      <td>7.241358</td>\n",
       "      <td>2.437004</td>\n",
       "      <td>2.360032</td>\n",
       "      <td>0.608692</td>\n",
       "      <td>1.835728</td>\n",
       "      <td>0</td>\n",
       "    </tr>\n",
       "    <tr>\n",
       "      <th>2941</th>\n",
       "      <td>2917</td>\n",
       "      <td>7.941593</td>\n",
       "      <td>2.687577</td>\n",
       "      <td>2.556762</td>\n",
       "      <td>0.654092</td>\n",
       "      <td>2.043189</td>\n",
       "      <td>2</td>\n",
       "    </tr>\n",
       "    <tr>\n",
       "      <th>2942</th>\n",
       "      <td>2949</td>\n",
       "      <td>7.941593</td>\n",
       "      <td>2.687577</td>\n",
       "      <td>2.556762</td>\n",
       "      <td>0.654092</td>\n",
       "      <td>2.043189</td>\n",
       "      <td>2</td>\n",
       "    </tr>\n",
       "    <tr>\n",
       "      <th>2943</th>\n",
       "      <td>0873</td>\n",
       "      <td>7.432529</td>\n",
       "      <td>2.527524</td>\n",
       "      <td>2.397487</td>\n",
       "      <td>0.617620</td>\n",
       "      <td>1.890071</td>\n",
       "      <td>0</td>\n",
       "    </tr>\n",
       "    <tr>\n",
       "      <th>2944</th>\n",
       "      <td>2576912</td>\n",
       "      <td>7.450642</td>\n",
       "      <td>2.326980</td>\n",
       "      <td>2.456875</td>\n",
       "      <td>0.513692</td>\n",
       "      <td>2.153299</td>\n",
       "      <td>1</td>\n",
       "    </tr>\n",
       "  </tbody>\n",
       "</table>\n",
       "<p>19821 rows × 7 columns</p>\n",
       "</div>"
      ],
      "text/plain": [
       "      stop_id  SVI_total   SVI_SES  SVI_household  SVI_race  \\\n",
       "0      404028   9.868632  3.188302       2.828710  0.793351   \n",
       "1      404270   9.880519  3.193774       2.833208  0.794443   \n",
       "2      403485   9.879350  3.193190       2.832947  0.794352   \n",
       "3      405435   9.912111  3.225876       2.826416  0.798160   \n",
       "4      405436   9.945778  3.240409       2.833493  0.800562   \n",
       "...       ...        ...       ...            ...       ...   \n",
       "2940     5715   7.241358  2.437004       2.360032  0.608692   \n",
       "2941     2917   7.941593  2.687577       2.556762  0.654092   \n",
       "2942     2949   7.941593  2.687577       2.556762  0.654092   \n",
       "2943     0873   7.432529  2.527524       2.397487  0.617620   \n",
       "2944  2576912   7.450642  2.326980       2.456875  0.513692   \n",
       "\n",
       "      SVI_housing_transport  worker_vulnerability_cat  \n",
       "0                  3.057867                         2  \n",
       "1                  3.058788                         2  \n",
       "2                  3.058555                         2  \n",
       "3                  3.060642                         2  \n",
       "4                  3.070323                         2  \n",
       "...                     ...                       ...  \n",
       "2940               1.835728                         0  \n",
       "2941               2.043189                         2  \n",
       "2942               2.043189                         2  \n",
       "2943               1.890071                         0  \n",
       "2944               2.153299                         1  \n",
       "\n",
       "[19821 rows x 7 columns]"
      ]
     },
     "execution_count": 35,
     "metadata": {},
     "output_type": "execute_result"
    }
   ],
   "source": [
    "svi"
   ]
  },
  {
   "cell_type": "code",
   "execution_count": 94,
   "id": "b197dd64-ec52-424b-a5e4-d8c67f371640",
   "metadata": {},
   "outputs": [
    {
     "data": {
      "text/plain": [
       "Index(['stop_id', 'route_type', 'stop_name', 'stop_lat', 'stop_lon',\n",
       "       'feed_name', 'routes_serviced', 'routes_serviced_str', 'GEOID_2010',\n",
       "       'GEOID_2020', 'geometry', 'city'],\n",
       "      dtype='object')"
      ]
     },
     "execution_count": 94,
     "metadata": {},
     "output_type": "execute_result"
    }
   ],
   "source": [
    "stops.columns"
   ]
  },
  {
   "cell_type": "code",
   "execution_count": 106,
   "id": "ba20debf-ddd8-426f-8b1e-2c3dc427c0c0",
   "metadata": {},
   "outputs": [
    {
     "data": {
      "text/plain": [
       "635      100025\n",
       "637      100027\n",
       "641      100033\n",
       "644      100039\n",
       "648      100045\n",
       "          ...  \n",
       "17952    904246\n",
       "17954    904250\n",
       "17957    904253\n",
       "17958    904254\n",
       "18210    984012\n",
       "Name: stop_id, Length: 918, dtype: object"
      ]
     },
     "execution_count": 106,
     "metadata": {},
     "output_type": "execute_result"
    }
   ],
   "source": [
    "duplicated_stops = svi.groupby(\"stop_id\").agg(count = (\"stop_id\", \"count\")).reset_index().query(\"count > 1\").stop_id\n",
    "duplicated_stops"
   ]
  },
  {
   "cell_type": "code",
   "execution_count": 22,
   "id": "2a7eef01-d204-447e-8fdc-afcbd7a3225e",
   "metadata": {},
   "outputs": [
    {
     "name": "stdout",
     "output_type": "stream",
     "text": [
      "Processing feed: /home/data/transit_feed_data/mta_feeds/google_transit_bronx\n",
      "Processing feed: /home/data/transit_feed_data/mta_feeds/google_transit_brooklyn\n",
      "Processing feed: /home/data/transit_feed_data/mta_feeds/google_transit_queens\n",
      "Processing feed: /home/data/transit_feed_data/mta_feeds/google_transit_manhattan\n",
      "Processing feed: /home/data/transit_feed_data/mta_feeds/google_transit_staten_island\n",
      "Processing feed: /home/data/transit_feed_data/mta_feeds/mta_subway\n",
      "Processing feed: /home/data/transit_feed_data/mta_feeds/bus_company\n",
      "Processing feed: /home/data/transit_feed_data/hrt_feeds/hrt\n",
      "Processing feed: /home/data/transit_feed_data/hrt_feeds/williamsburg\n"
     ]
    }
   ],
   "source": [
    "stops = process_feeds()"
   ]
  },
  {
   "cell_type": "code",
   "execution_count": 78,
   "id": "45ad3803-7a37-4efa-b4b3-809b109adf70",
   "metadata": {},
   "outputs": [
    {
     "data": {
      "text/plain": [
       "Index(['stop_id', 'route_type', 'stop_name', 'stop_lat', 'stop_lon',\n",
       "       'feed_name', 'routes_serviced', 'routes_serviced_str', 'GEOID_2010',\n",
       "       'GEOID_2020', 'geometry', 'city'],\n",
       "      dtype='object')"
      ]
     },
     "execution_count": 78,
     "metadata": {},
     "output_type": "execute_result"
    }
   ],
   "source": [
    "stops.columns"
   ]
  },
  {
   "cell_type": "code",
   "execution_count": 86,
   "id": "4c4c32ae-efd7-4310-9d7d-6dbc2dddbed1",
   "metadata": {},
   "outputs": [
    {
     "data": {
      "text/html": [
       "<div>\n",
       "<style scoped>\n",
       "    .dataframe tbody tr th:only-of-type {\n",
       "        vertical-align: middle;\n",
       "    }\n",
       "\n",
       "    .dataframe tbody tr th {\n",
       "        vertical-align: top;\n",
       "    }\n",
       "\n",
       "    .dataframe thead th {\n",
       "        text-align: right;\n",
       "    }\n",
       "</style>\n",
       "<table border=\"1\" class=\"dataframe\">\n",
       "  <thead>\n",
       "    <tr style=\"text-align: right;\">\n",
       "      <th></th>\n",
       "      <th>count</th>\n",
       "    </tr>\n",
       "    <tr>\n",
       "      <th>feed_name</th>\n",
       "      <th></th>\n",
       "    </tr>\n",
       "  </thead>\n",
       "  <tbody>\n",
       "    <tr>\n",
       "      <th>bus_company</th>\n",
       "      <td>3561</td>\n",
       "    </tr>\n",
       "    <tr>\n",
       "      <th>google_transit_bronx</th>\n",
       "      <td>1873</td>\n",
       "    </tr>\n",
       "    <tr>\n",
       "      <th>google_transit_brooklyn</th>\n",
       "      <td>4655</td>\n",
       "    </tr>\n",
       "    <tr>\n",
       "      <th>google_transit_manhattan</th>\n",
       "      <td>1825</td>\n",
       "    </tr>\n",
       "    <tr>\n",
       "      <th>google_transit_queens</th>\n",
       "      <td>2113</td>\n",
       "    </tr>\n",
       "    <tr>\n",
       "      <th>google_transit_staten_island</th>\n",
       "      <td>1966</td>\n",
       "    </tr>\n",
       "    <tr>\n",
       "      <th>hrt</th>\n",
       "      <td>2694</td>\n",
       "    </tr>\n",
       "    <tr>\n",
       "      <th>mta_subway</th>\n",
       "      <td>991</td>\n",
       "    </tr>\n",
       "    <tr>\n",
       "      <th>williamsburg</th>\n",
       "      <td>301</td>\n",
       "    </tr>\n",
       "  </tbody>\n",
       "</table>\n",
       "</div>"
      ],
      "text/plain": [
       "                              count\n",
       "feed_name                          \n",
       "bus_company                    3561\n",
       "google_transit_bronx           1873\n",
       "google_transit_brooklyn        4655\n",
       "google_transit_manhattan       1825\n",
       "google_transit_queens          2113\n",
       "google_transit_staten_island   1966\n",
       "hrt                            2694\n",
       "mta_subway                      991\n",
       "williamsburg                    301"
      ]
     },
     "execution_count": 86,
     "metadata": {},
     "output_type": "execute_result"
    }
   ],
   "source": [
    "stops.groupby(\"feed_name\").agg(count = (\"stop_id\", \"nunique\"))"
   ]
  },
  {
   "cell_type": "code",
   "execution_count": 87,
   "id": "885f0a20-1954-41e9-aa93-f39eed30da35",
   "metadata": {},
   "outputs": [
    {
     "data": {
      "text/html": [
       "<div>\n",
       "<style scoped>\n",
       "    .dataframe tbody tr th:only-of-type {\n",
       "        vertical-align: middle;\n",
       "    }\n",
       "\n",
       "    .dataframe tbody tr th {\n",
       "        vertical-align: top;\n",
       "    }\n",
       "\n",
       "    .dataframe thead th {\n",
       "        text-align: right;\n",
       "    }\n",
       "</style>\n",
       "<table border=\"1\" class=\"dataframe\">\n",
       "  <thead>\n",
       "    <tr style=\"text-align: right;\">\n",
       "      <th></th>\n",
       "      <th>stop_id</th>\n",
       "    </tr>\n",
       "  </thead>\n",
       "  <tbody>\n",
       "    <tr>\n",
       "      <th>count</th>\n",
       "      <td>19003</td>\n",
       "    </tr>\n",
       "  </tbody>\n",
       "</table>\n",
       "</div>"
      ],
      "text/plain": [
       "       stop_id\n",
       "count    19003"
      ]
     },
     "execution_count": 87,
     "metadata": {},
     "output_type": "execute_result"
    }
   ],
   "source": [
    "stops.agg(count = (\"stop_id\", \"nunique\"))"
   ]
  },
  {
   "cell_type": "code",
   "execution_count": 59,
   "id": "366bde59-2b73-46ff-8f44-1c3b01ce8ec2",
   "metadata": {},
   "outputs": [],
   "source": [
    "bx_stops = make_stops(\"/home/data/transit_feed_data/mta_feeds/google_transit_bronx\")"
   ]
  },
  {
   "cell_type": "code",
   "execution_count": 111,
   "id": "fedfb41d-f6e8-4e10-81f3-e2e12ed2c42f",
   "metadata": {},
   "outputs": [
    {
     "data": {
      "text/html": [
       "<div>\n",
       "<style scoped>\n",
       "    .dataframe tbody tr th:only-of-type {\n",
       "        vertical-align: middle;\n",
       "    }\n",
       "\n",
       "    .dataframe tbody tr th {\n",
       "        vertical-align: top;\n",
       "    }\n",
       "\n",
       "    .dataframe thead th {\n",
       "        text-align: right;\n",
       "    }\n",
       "</style>\n",
       "<table border=\"1\" class=\"dataframe\">\n",
       "  <thead>\n",
       "    <tr style=\"text-align: right;\">\n",
       "      <th></th>\n",
       "      <th>stop_id</th>\n",
       "      <th>route_type</th>\n",
       "      <th>stop_name</th>\n",
       "      <th>stop_lat</th>\n",
       "      <th>stop_lon</th>\n",
       "      <th>feed_name</th>\n",
       "      <th>routes_serviced</th>\n",
       "      <th>routes_serviced_str</th>\n",
       "      <th>GEOID_2010</th>\n",
       "      <th>GEOID_2020</th>\n",
       "      <th>geometry</th>\n",
       "      <th>city</th>\n",
       "    </tr>\n",
       "  </thead>\n",
       "  <tbody>\n",
       "    <tr>\n",
       "      <th>0</th>\n",
       "      <td>404028</td>\n",
       "      <td>Bus</td>\n",
       "      <td>BROADWAY/W 219 ST</td>\n",
       "      <td>40.871953</td>\n",
       "      <td>-73.913137</td>\n",
       "      <td>google_transit_bronx</td>\n",
       "      <td>M100, BX7, BX20</td>\n",
       "      <td>M100, BX7, BX20</td>\n",
       "      <td>36061029700</td>\n",
       "      <td>36061029700</td>\n",
       "      <td>POINT (-73.91314 40.87195)</td>\n",
       "      <td>NYC</td>\n",
       "    </tr>\n",
       "    <tr>\n",
       "      <th>16932</th>\n",
       "      <td>404028</td>\n",
       "      <td>Bus</td>\n",
       "      <td>BROADWAY/W 219 ST</td>\n",
       "      <td>40.871770</td>\n",
       "      <td>-73.913094</td>\n",
       "      <td>bus_company</td>\n",
       "      <td>BXM1</td>\n",
       "      <td>BXM1</td>\n",
       "      <td>36061029900</td>\n",
       "      <td>36061029900</td>\n",
       "      <td>POINT (-73.91309 40.87177)</td>\n",
       "      <td>NYC</td>\n",
       "    </tr>\n",
       "  </tbody>\n",
       "</table>\n",
       "</div>"
      ],
      "text/plain": [
       "      stop_id route_type          stop_name     stop_lat     stop_lon  \\\n",
       "0      404028        Bus  BROADWAY/W 219 ST    40.871953   -73.913137   \n",
       "16932  404028        Bus  BROADWAY/W 219 ST    40.871770   -73.913094   \n",
       "\n",
       "                  feed_name  routes_serviced routes_serviced_str   GEOID_2010  \\\n",
       "0      google_transit_bronx  M100, BX7, BX20     M100, BX7, BX20  36061029700   \n",
       "16932           bus_company             BXM1                BXM1  36061029900   \n",
       "\n",
       "        GEOID_2020                    geometry city  \n",
       "0      36061029700  POINT (-73.91314 40.87195)  NYC  \n",
       "16932  36061029900  POINT (-73.91309 40.87177)  NYC  "
      ]
     },
     "execution_count": 111,
     "metadata": {},
     "output_type": "execute_result"
    }
   ],
   "source": [
    "stops.query(\"stop_id == '404028'\")"
   ]
  },
  {
   "cell_type": "code",
   "execution_count": 67,
   "id": "0edfbfba-9945-4f15-bf61-52ce448e0b00",
   "metadata": {},
   "outputs": [
    {
     "data": {
      "text/plain": [
       "0         404028\n",
       "1         404270\n",
       "2         403485\n",
       "3         405435\n",
       "4         405436\n",
       "          ...   \n",
       "19974    2576874\n",
       "19975    2576873\n",
       "19976    2576885\n",
       "19977    2576884\n",
       "19978    2576883\n",
       "Name: stop_id, Length: 19979, dtype: object"
      ]
     },
     "execution_count": 67,
     "metadata": {},
     "output_type": "execute_result"
    }
   ],
   "source": [
    "stops.stop_id"
   ]
  },
  {
   "cell_type": "code",
   "execution_count": 72,
   "id": "a7212475-2b24-4eaa-845d-9110d2bd11f3",
   "metadata": {},
   "outputs": [
    {
     "data": {
      "text/plain": [
       "635    100025\n",
       "637    100027\n",
       "641    100033\n",
       "644    100039\n",
       "648    100045\n",
       "649    100047\n",
       "650    100048\n",
       "658    100058\n",
       "660    100060\n",
       "670    100071\n",
       "672    100077\n",
       "678    100088\n",
       "679    100089\n",
       "682    100098\n",
       "684    100100\n",
       "685    100101\n",
       "687    100103\n",
       "690    100109\n",
       "694    100114\n",
       "700    100131\n",
       "721    100166\n",
       "732    100183\n",
       "785    100294\n",
       "787    100296\n",
       "789    100298\n",
       "798    100322\n",
       "801    100325\n",
       "803    100328\n",
       "805    100330\n",
       "839    100459\n",
       "841    100461\n",
       "842    100462\n",
       "843    100463\n",
       "844    100464\n",
       "846    100466\n",
       "848    100469\n",
       "850    100471\n",
       "851    100472\n",
       "852    100473\n",
       "853    100474\n",
       "856    100483\n",
       "913    100588\n",
       "914    100589\n",
       "915    100590\n",
       "916    100591\n",
       "917    100592\n",
       "918    100594\n",
       "919    100595\n",
       "923    100609\n",
       "924    100610\n",
       "Name: stop_id, dtype: object"
      ]
     },
     "execution_count": 72,
     "metadata": {},
     "output_type": "execute_result"
    }
   ],
   "source": [
    "duplicated_stops.head(50)"
   ]
  },
  {
   "cell_type": "code",
   "execution_count": null,
   "id": "865e6e0d-4a24-49fd-81e3-7e8a79dfe5d4",
   "metadata": {},
   "outputs": [],
   "source": []
  }
 ],
 "metadata": {
  "kernelspec": {
   "display_name": "Python 3 (ipykernel)",
   "language": "python",
   "name": "python3"
  },
  "language_info": {
   "codemirror_mode": {
    "name": "ipython",
    "version": 3
   },
   "file_extension": ".py",
   "mimetype": "text/x-python",
   "name": "python",
   "nbconvert_exporter": "python",
   "pygments_lexer": "ipython3",
   "version": "3.7.15"
  }
 },
 "nbformat": 4,
 "nbformat_minor": 5
}
